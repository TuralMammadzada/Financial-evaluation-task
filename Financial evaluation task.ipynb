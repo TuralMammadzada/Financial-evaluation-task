{
 "cells": [
  {
   "cell_type": "markdown",
   "metadata": {},
   "source": [
    "Note:\n",
    "\n",
    "    These numbers indicates the data for each months, \n",
    "    Len of list equal to len of months"
   ]
  },
  {
   "cell_type": "code",
   "execution_count": 10,
   "metadata": {},
   "outputs": [],
   "source": [
    "#Data    \n",
    "revenue = [14574.49, 7606.46, 8611.41, 9175.41, 8058.65, 8105.44, 11496.28, 9766.09, 10305.32, 14379.96, 10713.97, 15433.50]\n",
    "expenses = [12051.82, 5695.07, 12319.20, 12089.72, 8658.57, 840.20, 3285.73, 5821.12, 6976.93, 16618.61, 10054.37, 3803.96]"
   ]
  },
  {
   "cell_type": "markdown",
   "metadata": {},
   "source": [
    "* profit for each month\n",
    "* profit after tax for each month (the tax rate is 30%)\n",
    "* profit margin for each month - equals to profit after tax divided by revenue\n",
    "* good months - where the profit after tax was greater than the mean for the year\n",
    "* bad months - where the profit after tax was less than the mean for the year\n",
    "* the best month - where the profit after tax was max for the year\n",
    "* the worst month - where the profit after tax was min for the year\n",
    "* bonus - add 10% of profit (after tax) mean for  good months\n",
    "* penalty - subtract 10% of profit (after tax) mean for  good months\n",
    "* result - show good and bad months's name"
   ]
  },
  {
   "cell_type": "markdown",
   "metadata": {},
   "source": [
    "----"
   ]
  },
  {
   "cell_type": "code",
   "execution_count": 11,
   "metadata": {},
   "outputs": [],
   "source": [
    "import numpy as np\n",
    "revenue = np.array(revenue)\n",
    "expenses = np.array(expenses)"
   ]
  },
  {
   "cell_type": "markdown",
   "metadata": {},
   "source": [
    "### 1"
   ]
  },
  {
   "cell_type": "code",
   "execution_count": 12,
   "metadata": {},
   "outputs": [],
   "source": [
    "profit = revenue - expenses"
   ]
  },
  {
   "cell_type": "code",
   "execution_count": 13,
   "metadata": {},
   "outputs": [
    {
     "data": {
      "text/plain": [
       "array([ 2522.67,  1911.39, -3707.79, -2914.31,  -599.92,  7265.24,\n",
       "        8210.55,  3944.97,  3328.39, -2238.65,   659.6 , 11629.54])"
      ]
     },
     "execution_count": 13,
     "metadata": {},
     "output_type": "execute_result"
    }
   ],
   "source": [
    "profit"
   ]
  },
  {
   "cell_type": "markdown",
   "metadata": {},
   "source": [
    "### 2"
   ]
  },
  {
   "cell_type": "code",
   "execution_count": 14,
   "metadata": {},
   "outputs": [],
   "source": [
    "profit = (profit * 70)/100"
   ]
  },
  {
   "cell_type": "code",
   "execution_count": 15,
   "metadata": {},
   "outputs": [
    {
     "data": {
      "text/plain": [
       "array([ 1765.869,  1337.973, -2595.453, -2040.017,  -419.944,  5085.668,\n",
       "        5747.385,  2761.479,  2329.873, -1567.055,   461.72 ,  8140.678])"
      ]
     },
     "execution_count": 15,
     "metadata": {},
     "output_type": "execute_result"
    }
   ],
   "source": [
    "profit"
   ]
  },
  {
   "cell_type": "markdown",
   "metadata": {},
   "source": [
    "### 3"
   ]
  },
  {
   "cell_type": "code",
   "execution_count": 19,
   "metadata": {},
   "outputs": [],
   "source": [
    "profit_margin = profit/revenue * 100"
   ]
  },
  {
   "cell_type": "code",
   "execution_count": 20,
   "metadata": {},
   "outputs": [
    {
     "data": {
      "text/plain": [
       "array([ 12.11616324,  17.58995643, -30.13969838, -22.23352417,\n",
       "        -5.21109615,  62.74388559,  49.99343266,  28.27619856,\n",
       "        22.60844884, -10.89749207,   4.30951365,  52.74680403])"
      ]
     },
     "execution_count": 20,
     "metadata": {},
     "output_type": "execute_result"
    }
   ],
   "source": [
    "profit_margin"
   ]
  },
  {
   "cell_type": "markdown",
   "metadata": {},
   "source": [
    "---"
   ]
  },
  {
   "cell_type": "markdown",
   "metadata": {},
   "source": [
    "### 4"
   ]
  },
  {
   "cell_type": "code",
   "execution_count": 21,
   "metadata": {},
   "outputs": [
    {
     "data": {
      "text/plain": [
       "1750.6813333333332"
      ]
     },
     "execution_count": 21,
     "metadata": {},
     "output_type": "execute_result"
    }
   ],
   "source": [
    "profit.mean()"
   ]
  },
  {
   "cell_type": "code",
   "execution_count": 24,
   "metadata": {},
   "outputs": [],
   "source": [
    "l_m = ['January','February','March','April','May','June','July','August','September','October','November','December']"
   ]
  },
  {
   "cell_type": "code",
   "execution_count": 38,
   "metadata": {},
   "outputs": [
    {
     "name": "stdout",
     "output_type": "stream",
     "text": [
      "January\n",
      "June\n",
      "July\n",
      "August\n",
      "September\n",
      "December\n"
     ]
    }
   ],
   "source": [
    "for i in range(0,len(l_m)):\n",
    "    if profit[i] > profit.mean():\n",
    "        print(l_m[i])"
   ]
  },
  {
   "cell_type": "markdown",
   "metadata": {},
   "source": [
    "---"
   ]
  },
  {
   "cell_type": "markdown",
   "metadata": {},
   "source": [
    "### 5"
   ]
  },
  {
   "cell_type": "code",
   "execution_count": 28,
   "metadata": {},
   "outputs": [
    {
     "name": "stdout",
     "output_type": "stream",
     "text": [
      "February\n",
      "March\n",
      "April\n",
      "May\n",
      "October\n",
      "November\n"
     ]
    }
   ],
   "source": [
    "for i in range(0,len(l_m)):\n",
    "    if profit[i] < profit.mean():\n",
    "        print(l_m[i])"
   ]
  },
  {
   "cell_type": "markdown",
   "metadata": {},
   "source": [
    "---"
   ]
  },
  {
   "cell_type": "markdown",
   "metadata": {},
   "source": [
    "### 6"
   ]
  },
  {
   "cell_type": "code",
   "execution_count": 35,
   "metadata": {},
   "outputs": [
    {
     "name": "stdout",
     "output_type": "stream",
     "text": [
      "December ---> 8140.678000000001\n"
     ]
    }
   ],
   "source": [
    "for i in range(0,len(l_m)):\n",
    "    if profit[i] == profit.max():\n",
    "        print(l_m[i],'--->',profit[i])"
   ]
  },
  {
   "cell_type": "markdown",
   "metadata": {},
   "source": [
    "---"
   ]
  },
  {
   "cell_type": "markdown",
   "metadata": {},
   "source": [
    "### 7"
   ]
  },
  {
   "cell_type": "code",
   "execution_count": 36,
   "metadata": {},
   "outputs": [
    {
     "name": "stdout",
     "output_type": "stream",
     "text": [
      "March ---> -2595.4530000000004\n"
     ]
    }
   ],
   "source": [
    "for i in range(0,len(l_m)):\n",
    "    if profit[i] == profit.min():\n",
    "        print(l_m[i],'--->',profit[i])"
   ]
  },
  {
   "cell_type": "markdown",
   "metadata": {},
   "source": [
    "---\n",
    "\n",
    "### 8"
   ]
  },
  {
   "cell_type": "code",
   "execution_count": 41,
   "metadata": {},
   "outputs": [
    {
     "name": "stdout",
     "output_type": "stream",
     "text": [
      "January  with bonus --> :  1941.0\n",
      "June  with bonus --> :  5261.0\n",
      "July  with bonus --> :  5922.0\n",
      "August  with bonus --> :  2937.0\n",
      "September  with bonus --> :  2505.0\n",
      "December  with bonus --> :  8316.0\n"
     ]
    }
   ],
   "source": [
    "for i in range(0,len(l_m)):\n",
    "    if profit[i] > profit.mean():\n",
    "        print( l_m[i],' with bonus --> : ',round(profit[i] + (profit.mean()*10/100) ))"
   ]
  },
  {
   "cell_type": "markdown",
   "metadata": {},
   "source": [
    "---\n",
    "\n",
    "### 9"
   ]
  },
  {
   "cell_type": "code",
   "execution_count": 42,
   "metadata": {},
   "outputs": [
    {
     "name": "stdout",
     "output_type": "stream",
     "text": [
      "February  with penalty --> :  1163.0\n",
      "March  with penalty --> :  -2771.0\n",
      "April  with penalty --> :  -2215.0\n",
      "May  with penalty --> :  -595.0\n",
      "October  with penalty --> :  -1742.0\n",
      "November  with penalty --> :  287.0\n"
     ]
    }
   ],
   "source": [
    "for i in range(0,len(l_m)):\n",
    "    if profit[i] < profit.mean():\n",
    "        print( l_m[i],' with penalty --> : ',round(profit[i] - (profit.mean()*10/100) ))"
   ]
  },
  {
   "cell_type": "markdown",
   "metadata": {},
   "source": [
    "---"
   ]
  }
 ],
 "metadata": {
  "kernelspec": {
   "display_name": "Python 3",
   "language": "python",
   "name": "python3"
  },
  "language_info": {
   "codemirror_mode": {
    "name": "ipython",
    "version": 3
   },
   "file_extension": ".py",
   "mimetype": "text/x-python",
   "name": "python",
   "nbconvert_exporter": "python",
   "pygments_lexer": "ipython3",
   "version": "3.7.3"
  }
 },
 "nbformat": 4,
 "nbformat_minor": 1
}
